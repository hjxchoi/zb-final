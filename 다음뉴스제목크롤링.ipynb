{
 "cells": [
  {
   "cell_type": "code",
   "execution_count": 61,
   "metadata": {},
   "outputs": [],
   "source": [
    "from selenium import webdriver\n",
    "from selenium.webdriver.common.by import By\n",
    "\n",
    "from bs4 import BeautifulSoup\n",
    "import time"
   ]
  },
  {
   "cell_type": "code",
   "execution_count": 62,
   "metadata": {},
   "outputs": [],
   "source": [
    "def newsTitle(keyword, pages):\n",
    "\n",
    "    url = f'https://search.daum.net/search?nil_suggest=btn&w=news&DA=SBC&cluster=y&q={keyword}'\n",
    "    driver = webdriver.Chrome()\n",
    "    driver.get(url)\n",
    "    titles = []\n",
    "    \n",
    "    try:\n",
    "        for i in range(pages):\n",
    "            req = driver.page_source\n",
    "            soup = BeautifulSoup(req, 'html.parser')\n",
    "\n",
    "            # 한 페이지에 기사 10개\n",
    "            for i in range(10):\n",
    "                target = f'#dnsColl > div:nth-child(1) > ul > li:nth-child({i+1}) > div.c-item-content > div.item-bundle-mid > div.item-title > strong > a'\n",
    "                title = soup.select(target)\n",
    "                titles.append(title[0].text)\n",
    "\n",
    "            # 다음 버튼\n",
    "            next_one = driver.find_element(By.CSS_SELECTOR,'#dnsColl > div:nth-child(2) > div > button.btn_next')\n",
    "\n",
    "            # 마지막 페이지면 return\n",
    "            html = next_one.get_attribute('outerHTML')\n",
    "            if 'disabled' in html: \n",
    "                return titles\n",
    "\n",
    "            next_one.click()\n",
    "            time.sleep(0.3)\n",
    "\n",
    "    # indexerror 나면 return\n",
    "    except IndexError:\n",
    "        return titles\n",
    "    return titles\n"
   ]
  },
  {
   "cell_type": "markdown",
   "metadata": {},
   "source": [
    "- newsTitle(검색 키워드, 검색 페이지)"
   ]
  },
  {
   "cell_type": "code",
   "execution_count": 63,
   "metadata": {},
   "outputs": [],
   "source": [
    "t = newsTitle('x세대 소비', 100)"
   ]
  },
  {
   "cell_type": "code",
   "execution_count": 65,
   "metadata": {},
   "outputs": [],
   "source": [
    "txt = ''\n",
    "for t_each in t:\n",
    "    txt += t_each\n",
    "\n",
    "import re\n",
    "\n",
    "# 영어와 한글, 공백만 남기고 나머지는 제거하는 정규 표현식 패턴\n",
    "pattern = re.compile('[^A-Za-zㄱ-ㅣ가-힣 ]+')\n",
    "result = pattern.sub(' ', txt)\n",
    "\n",
    "# 공백 기준으로 나눔\n",
    "words = result.split()\n",
    "\n",
    "import pandas as pd\n",
    "\n",
    "words_df = pd.DataFrame()\n",
    "words_df['word'] = words"
   ]
  },
  {
   "cell_type": "markdown",
   "metadata": {},
   "source": [
    "- 저장 후 태블로에서 워드클라우드 생성"
   ]
  },
  {
   "cell_type": "code",
   "execution_count": 66,
   "metadata": {},
   "outputs": [],
   "source": [
    "words_df.to_csv('./words_keyword.csv')"
   ]
  }
 ],
 "metadata": {
  "kernelspec": {
   "display_name": "ds_study",
   "language": "python",
   "name": "python3"
  },
  "language_info": {
   "codemirror_mode": {
    "name": "ipython",
    "version": 3
   },
   "file_extension": ".py",
   "mimetype": "text/x-python",
   "name": "python",
   "nbconvert_exporter": "python",
   "pygments_lexer": "ipython3",
   "version": "3.8.17"
  }
 },
 "nbformat": 4,
 "nbformat_minor": 2
}
